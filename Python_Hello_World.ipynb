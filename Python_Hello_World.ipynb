{
  "nbformat": 4,
  "nbformat_minor": 0,
  "metadata": {
    "colab": {
      "name": "Python Hello World",
      "version": "0.3.2",
      "provenance": [],
      "collapsed_sections": [],
      "include_colab_link": true
    },
    "kernelspec": {
      "name": "python3",
      "display_name": "Python 3"
    }
  },
  "cells": [
    {
      "cell_type": "markdown",
      "metadata": {
        "id": "view-in-github",
        "colab_type": "text"
      },
      "source": [
        "<a href=\"https://colab.research.google.com/github/IKEAmaker/LearnPython4Devices/blob/master/Python_Hello_World.ipynb\" target=\"_parent\"><img src=\"https://colab.research.google.com/assets/colab-badge.svg\" alt=\"Open In Colab\"/></a>"
      ]
    },
    {
      "metadata": {
        "id": "9ua57bAruSNt",
        "colab_type": "text"
      },
      "cell_type": "markdown",
      "source": [
        "Hej!\n",
        "This is just a really simple warm-up to get familiar with the gramatics of Python (what programmers call 'syntax').\n",
        "\n",
        "The way this works, is that you read the explaining text (like this).\n",
        "Then you run some pre-written code blocks (like the code below) and observer the output.\n",
        "\n",
        "To run a block of code, you either click the run button:\n",
        "\n",
        "![alt text](https://github.com/IKEAmaker/LearnPython4Devices/raw/master/Media/run.PNG)\n",
        "\n",
        "Or just press SHIFT + ENTER when the block is highlighted.\n",
        "\n",
        "So start by runnging the code below."
      ]
    },
    {
      "metadata": {
        "id": "6Xbjkgcsulau",
        "colab_type": "code",
        "colab": {}
      },
      "cell_type": "code",
      "source": [
        "print('hello world!')"
      ],
      "execution_count": 0,
      "outputs": []
    },
    {
      "metadata": {
        "id": "HXjOfjMCuPON",
        "colab_type": "text"
      },
      "cell_type": "markdown",
      "source": [
        ""
      ]
    }
  ]
}